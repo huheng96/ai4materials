{
 "cells": [
  {
   "cell_type": "code",
   "execution_count": 1,
   "id": "fd62aed7",
   "metadata": {},
   "outputs": [],
   "source": [
    "import numpy as np\n",
    "import pandas as pd\n",
    "import matplotlib.pyplot as plt\n"
   ]
  },
  {
   "cell_type": "code",
   "execution_count": null,
   "id": "81766049",
   "metadata": {},
   "outputs": [],
   "source": [
    "# Create a DataFrame\n",
    "df = pd.read_csv(r\"\")"
   ]
  },
  {
   "cell_type": "code",
   "execution_count": null,
   "id": "12bb2565",
   "metadata": {},
   "outputs": [],
   "source": [
    "from sklearn.ensemble import IsolationForest\n",
    "\n",
    "# Anomaly Detection Using Isolation Forest\n",
    "iso_forest = IsolationForest(contamination=0.01, random_state=42)\n",
    "df['Anomaly'] = iso_forest.fit_predict(df[['feature']])\n",
    "\n",
    "# Obtain the indices of outliers and their corresponding values\n",
    "anomalies = df[df['feature'] == -1]\n",
    "anomaly_indices = anomalies.index\n",
    "anomaly_values = anomalies['']\n",
    "\n",
    "# Print the indices of outliers and their corresponding values\n",
    "print(\"Indices of outliers: \", list(anomaly_indices))\n",
    "print(\"Outlier values: \", list(anomaly_values))\n",
    "\n",
    "# Data Visualization\n",
    "plt.figure(figsize=(10, 6))\n",
    "plt.plot(df['v'], 'b.', label='Data Points')\n",
    "plt.plot(anomaly_indices, anomaly_values, 'ro', label='Outliers')\n",
    "plt.title('Data Points with Anomalies Visualization')\n",
    "plt.xlabel('Index')\n",
    "plt.ylabel('')\n",
    "plt.grid(linestyle='--', alpha=0.7)\n",
    "\n",
    "# Label the indices of outliers\n",
    "for i, index in enumerate(anomaly_indices):\n",
    "    plt.text(index, anomaly_values.iloc[i] + 1, f'{index}', color='red', fontsize=9)\n",
    "\n",
    "plt.legend()\n",
    "plt.show()"
   ]
  }
 ],
 "metadata": {
  "kernelspec": {
   "display_name": "Python38",
   "language": "python",
   "name": "python3"
  },
  "language_info": {
   "codemirror_mode": {
    "name": "ipython",
    "version": 3
   },
   "file_extension": ".py",
   "mimetype": "text/x-python",
   "name": "python",
   "nbconvert_exporter": "python",
   "pygments_lexer": "ipython3",
   "version": "3.8.17"
  }
 },
 "nbformat": 4,
 "nbformat_minor": 5
}
