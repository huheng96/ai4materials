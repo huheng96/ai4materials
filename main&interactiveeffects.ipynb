{
 "cells": [
  {
   "cell_type": "code",
   "execution_count": null,
   "id": "03cfb7c5",
   "metadata": {},
   "outputs": [],
   "source": [
    "import pandas as pd\n",
    "import numpy as np\n",
    "import matplotlib.pyplot as plt\n",
    "plt.rcParams['font.family'] = 'Times New Roman'\n",
    "plt.rcParams['axes.unicode_minus'] = False\n",
    "import warnings\n",
    "# Ignore all warnings\n",
    "warnings.filterwarnings(\"ignore\")\n",
    "\n",
    "path = r\"database.xlsx\"\n",
    "df = pd.read_excel(path)\n",
    "df"
   ]
  },
  {
   "cell_type": "code",
   "execution_count": null,
   "id": "7121279b",
   "metadata": {},
   "outputs": [],
   "source": [
    "from sklearn.model_selection import train_test_split\n",
    "# Split features and target variables\n",
    "X = df.drop([''], axis=1)  \n",
    "y = df['']  \n",
    "\n",
    "# Split the dataset into training set and test set\n",
    "X_train, X_test, y_train, y_test = train_test_split(X,  y,  test_size=0.3,  random_state=42)"
   ]
  },
  {
   "cell_type": "code",
   "execution_count": null,
   "id": "7e00da9f",
   "metadata": {},
   "outputs": [],
   "source": [
    "from sklearn.model_selection import cross_val_score, KFold\n",
    "from sklearn.ensemble import RandomForestRegressor\n",
    "\n",
    "# Initialize Random Forest Regression Model\n",
    "model = RandomForestRegressor(\n",
    "    n_estimators=100,  \n",
    "    max_depth=None,     \n",
    "    bootstrap=True,     \n",
    "    criterion='squared_error',  \n",
    "    max_features='sqrt',  \n",
    "    random_state=42,    # Set a random seed to ensure reproducibility of results\n",
    "    verbose=False\n",
    ")\n",
    "\n",
    "# Create a KFold cross-validation object and set the random seed\n",
    "kf = KFold(n_splits=10, random_state=42, shuffle=True)\n",
    "# Use a 10-fold cross-validation to evaluate the model performance, with the scoring standard using R²\n",
    "cv_scores = cross_val_score(model, X_train, y_train, cv=kf, scoring='r2')\n",
    "\n",
    "model.fit(X_train, y_train)"
   ]
  },
  {
   "cell_type": "code",
   "execution_count": null,
   "id": "cf26aeb1",
   "metadata": {},
   "outputs": [],
   "source": [
    "import shap\n",
    "explainer = shap.TreeExplainer(model)\n",
    "shap_values = explainer.shap_values(X_test)"
   ]
  },
  {
   "cell_type": "code",
   "execution_count": null,
   "id": "cc43dde6",
   "metadata": {},
   "outputs": [],
   "source": [
    "shap_values_df = pd.DataFrame(shap_values, columns=X_test.columns)\n",
    "shap_values_df.head()"
   ]
  },
  {
   "cell_type": "code",
   "execution_count": null,
   "id": "9d2c8e0b",
   "metadata": {},
   "outputs": [],
   "source": [
    "# Calculate the mean of the absolute values of each column\n",
    "mean_abs_shap_values = shap_values_df.abs().mean()\n",
    "shap_values_with_mean = shap_values_df.copy()  \n",
    "shap_values_with_mean.columns = [f\"{col} ({mean_abs_shap_values[col]:.3f})\" for col in shap_values_with_mean.columns]\n",
    "shap_values_with_mean.head()"
   ]
  },
  {
   "cell_type": "code",
   "execution_count": null,
   "id": "c3503e5a",
   "metadata": {},
   "outputs": [],
   "source": [
    "plt.figure()\n",
    "shap.summary_plot(shap_values, X_test, feature_names=shap_values_with_mean.columns, plot_type=\"dot\", show=False)\n",
    "plt.savefig(\"Total effects.pdf\", format='pdf',bbox_inches='tight',dpi=1200)\n",
    "plt.show()"
   ]
  },
  {
   "cell_type": "code",
   "execution_count": null,
   "id": "1ab93fe2",
   "metadata": {},
   "outputs": [],
   "source": [
    "# Calculate SHAP interaction values\n",
    "# Extract the diagonal elements to represent the main effect values\n",
    "shap_interaction_values = explainer.shap_interaction_values(X_test) \n",
    "main_effects = np.array([shap_interaction_values[:, i, i] for i in range(shap_interaction_values.shape[1])]).T\n",
    "main_effects_df = pd.DataFrame(main_effects, columns=X_test.columns)\n",
    "main_effects_df"
   ]
  },
  {
   "cell_type": "code",
   "execution_count": null,
   "id": "fe250ebe",
   "metadata": {},
   "outputs": [],
   "source": [
    "# Calculate the mean of the absolute values of each column\n",
    "mean_abs_shap_vaMain_effects = main_effects_df.abs().mean()\n",
    "shap_values_with_mean_vaMain_effects = main_effects_df.copy()  \n",
    "shap_values_with_mean_vaMain_effects.columns = [f\"{col} ({mean_abs_shap_vaMain_effects[col]:.3f})\" for col in shap_values_with_mean_vaMain_effects.columns]\n",
    "shap_values_with_mean_vaMain_effects.head()"
   ]
  },
  {
   "cell_type": "code",
   "execution_count": null,
   "id": "c4712682",
   "metadata": {},
   "outputs": [],
   "source": [
    "plt.figure()\n",
    "shap.summary_plot(np.array(main_effects_df), X_test, feature_names=shap_values_with_mean_vaMain_effects.columns, plot_type=\"dot\", show=False)\n",
    "plt.xlabel('Main effect SHAP')\n",
    "plt.savefig(\"vaMain effects.pdf\", format='pdf',bbox_inches='tight',dpi=1200)\n",
    "plt.show()"
   ]
  },
  {
   "cell_type": "code",
   "execution_count": null,
   "id": "b7d08603",
   "metadata": {},
   "outputs": [],
   "source": [
    "# Get Feature Name\n",
    "feature_names = X_test.columns\n",
    "\n",
    "# Initialize an empty DataFrame, a matrix of size equal to the number of features\n",
    "interaction_matrix = pd.DataFrame(np.nan, index=feature_names, columns=feature_names)\n",
    "\n",
    "# Traversing each pair of features\n",
    "for i, feature in enumerate(feature_names):\n",
    "    for j, other_feature in enumerate(feature_names):\n",
    "        if i != j:  # Consider only the interactions between different features\n",
    "            # Calculate the absolute value of each sample's SHAP interaction value\n",
    "            interaction_values = [shap_interaction_values[sample_idx][i, j] for sample_idx in range(shap_interaction_values.shape[0])]\n",
    "            # Calculate the average absolute value of interaction values\n",
    "            avg_interaction_value = np.mean(np.abs(interaction_values))\n",
    "            # Assign the result to the corresponding matrix \n",
    "            interaction_matrix.loc[feature, other_feature] = avg_interaction_value\n",
    "        else:\n",
    "            # Calculate the main effect values (values on the diagonal)\n",
    "            main_effect_values = [shap_interaction_values[sample_idx][i, i] for sample_idx in range(shap_interaction_values.shape[0])]\n",
    "            # Calculate the average absolute value of main effect values\n",
    "            avg_main_effect_value = np.mean(np.abs(main_effect_values))\n",
    "            # Assign the main effect values to the diagonal positions\n",
    "            interaction_matrix.loc[feature, feature] = avg_main_effect_value\n",
    "\n",
    "interaction_matrix"
   ]
  },
  {
   "cell_type": "code",
   "execution_count": null,
   "id": "97c3d6a4",
   "metadata": {},
   "outputs": [],
   "source": [
    "features = interaction_matrix.columns\n",
    "main_effect_values = np.diag(interaction_matrix)\n",
    "# Sort the main effect values from high to low\n",
    "sorted_effects = sorted(zip(features, main_effect_values), key=lambda x: x[1], reverse=True)\n",
    "# Extract the sorted feature names and main effect values\n",
    "sorted_features, sorted_main_effect_values = zip(*sorted_effects)\n",
    "# Create an empty matrix to store the interaction effect values\n",
    "interaction_values_matrix = np.zeros((len(features), len(features)))\n",
    "\n",
    "# Fill the interaction effect matrix, considering only non-diagonal elements (interaction effects)\n",
    "for i, feature in enumerate(features):\n",
    "    for j, other_feature in enumerate(features):\n",
    "        if i != j:  # Consider only the interaction effects of off-diagonals\n",
    "            interaction_values_matrix[i, j] = interaction_matrix.iloc[i, j]*2\n",
    "\n",
    "bar_width = 0.35\n",
    "\n",
    "index = np.arange(len(sorted_features))\n",
    "\n",
    "plt.figure(figsize=(12, 6))\n",
    "\n",
    "plt.bar(index - bar_width / 2, sorted_main_effect_values, bar_width, label=\"Main Effect\", color=\"#FFFF00\",alpha=0.8)\n",
    "\n",
    "bars_data = interaction_values_matrix.T  # 转置，方便堆叠\n",
    "bottom = np.zeros(len(features))  # 用于堆叠的底部\n",
    "\n",
    "# Draw an interaction effect stacked bar chart (right)\n",
    "for i in range(len(features)):\n",
    "    # 绘制每个堆叠部分\n",
    "    bars = plt.bar(index + bar_width / 2, bars_data[i], bar_width, bottom=bottom, label=f'Interaction with {features[i]}')\n",
    "    bottom += bars_data[i]  \n",
    "\n",
    "# Display the total sum of the stack at the top of the stacked bar chart\n",
    "for i in range(len(features)):\n",
    "    total_height = np.sum(bars_data[:, i])  # Calculate the sum of each column\n",
    "    if total_height > 0:\n",
    "        plt.text(index[i] + bar_width / 2, bottom[i], f'{total_height:.3f}', ha='center', va='bottom', fontsize=13)\n",
    "\n",
    "plt.xticks(index, sorted_features, ha='center')\n",
    "\n",
    "plt.xlabel(\"\")\n",
    "plt.ylabel(\"Mean Absolute SHAP Values\", fontsize=14)\n",
    "plt.title(\"\")\n",
    "\n",
    "plt.tick_params(axis='both', which='major', labelsize=14)\n",
    "\n",
    "for i, rect in enumerate(plt.gca().patches[:len(sorted_features)]):\n",
    "    height = rect.get_height()\n",
    "    plt.text(rect.get_x() + rect.get_width() / 2, height, f'{height:.3f}', ha='center', va='bottom', fontsize=13)\n",
    "\n",
    "plt.legend(loc='upper center', bbox_to_anchor=(0.5, 1.3), ncol=3, fontsize=12)\n",
    "plt.grid(axis='y', linestyle='--', alpha=0.6)\n",
    "plt.tight_layout()\n",
    "plt.savefig(\"Main and Interaction Effects.pdf\", format='pdf',bbox_inches='tight',dpi=1200)\n",
    "plt.show()"
   ]
  }
 ],
 "metadata": {
  "language_info": {
   "name": "python"
  }
 },
 "nbformat": 4,
 "nbformat_minor": 5
}
